{
 "cells": [
  {
   "cell_type": "markdown",
   "metadata": {},
   "source": [
    "### Q1. How do you distinguish between shutil.copy() and shutil.copytree()?"
   ]
  },
  {
   "cell_type": "markdown",
   "metadata": {},
   "source": [
    "### Answer: The shutil module in Python helps to automate the copying and romoving process of files and directories. \n",
    "### shutil.copy() method: We can use shutil.copy() method to copy entire content of the source file to the destination file or directory. Source must represent the the file and the destination will be file or directory.\n",
    "### Syntax of shutil.copy(): shutil.copy(source,destination).\n",
    "### source: A string that represents the path of the source file.\n",
    "### destination: A sting that represents the path of the destination file or directory.\n",
    "### shutil.copytree() method: We can use shutil.copytree() method to copy entire directory tree rooted at the source to the destination directory.\n",
    "### Syntax of shutil.copytree(): shutil.copytree(src,dst)\n",
    "### src: A string that represents the path of the source directory.\n",
    "### dst: A string that represents the path of the destination directory.\n",
    "\n",
    "### In other words, shutil.copy() method, copy a single file and shutil.copytree() method, copy entire folder and every folder and file containing in that particular folder."
   ]
  },
  {
   "cell_type": "markdown",
   "metadata": {},
   "source": [
    "### Q2. What function is used to rename files??"
   ]
  },
  {
   "cell_type": "markdown",
   "metadata": {},
   "source": [
    "### Answer: The os.rename() method is used to rename a file or directory."
   ]
  },
  {
   "cell_type": "markdown",
   "metadata": {},
   "source": [
    "### Q3. What is the difference between the delete functions in the send2trash and shutil modules?/"
   ]
  },
  {
   "cell_type": "markdown",
   "metadata": {},
   "source": [
    "### Answer: We can use send2trash module to safely delete the files or folders to move to the recycle bin, from where we can recover or restore the same files or folders. But using the shutil module, we can premanently delete the files or folders."
   ]
  },
  {
   "cell_type": "markdown",
   "metadata": {},
   "source": [
    "### Q4.ZipFile objects have a close() method just like File objects’ close() method. What ZipFile method is equivalent to File objects’ open() method?"
   ]
  },
  {
   "cell_type": "markdown",
   "metadata": {},
   "source": [
    "### Answer: ZipFile.extract() or ZipFile.extractall() method."
   ]
  },
  {
   "cell_type": "markdown",
   "metadata": {},
   "source": [
    "### Q5. Create a programme that searches a folder tree for files with a certain file extension (such as .pdf or .jpg). Copy these files from whatever location they are in to a new folder."
   ]
  },
  {
   "cell_type": "markdown",
   "metadata": {},
   "source": [
    "### Answer: "
   ]
  },
  {
   "cell_type": "code",
   "execution_count": 3,
   "metadata": {},
   "outputs": [],
   "source": [
    "import os\n",
    "import shutil\n",
    "def new(folder):\n",
    "    for folderName, subfolders, filenames in os.walk(folder):\n",
    "        for subfolder in subfolders:\n",
    "            for filename in filenames:\n",
    "                if filename.endswith('.jpg'):\n",
    "                    shutil.copy(folder + filename, '<destination>')\n",
    "\n",
    "new('<source_file>')"
   ]
  }
 ],
 "metadata": {
  "kernelspec": {
   "display_name": "Python 3",
   "language": "python",
   "name": "python3"
  },
  "language_info": {
   "codemirror_mode": {
    "name": "ipython",
    "version": 3
   },
   "file_extension": ".py",
   "mimetype": "text/x-python",
   "name": "python",
   "nbconvert_exporter": "python",
   "pygments_lexer": "ipython3",
   "version": "3.7.6"
  }
 },
 "nbformat": 4,
 "nbformat_minor": 4
}
