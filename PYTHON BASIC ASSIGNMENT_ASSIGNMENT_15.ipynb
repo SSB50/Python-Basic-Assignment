{
 "cells": [
  {
   "cell_type": "markdown",
   "metadata": {},
   "source": [
    "### Q1.How many seconds are in an hour? Use the interactive interpreter as a calculator and multiply the number of seconds in a minute (60) by the number of minutes in an hour (also 60)."
   ]
  },
  {
   "cell_type": "markdown",
   "metadata": {},
   "source": [
    "### Answer: "
   ]
  },
  {
   "cell_type": "code",
   "execution_count": 1,
   "metadata": {},
   "outputs": [
    {
     "name": "stdout",
     "output_type": "stream",
     "text": [
      "Enter the time in seconds= 86400\n",
      "The Minutes will be=  1440.0\n",
      "The Hour will be=  24.0\n",
      "The Day will be=  1.0\n"
     ]
    }
   ],
   "source": [
    "t=float(input(\"Enter the time in seconds= \"))\n",
    "m=t//60\n",
    "print(\"The Minutes will be= \",m)\n",
    "h=t//3600\n",
    "print(\"The Hour will be= \",h)\n",
    "d=t//86400\n",
    "print(\"The Day will be= \",d)"
   ]
  },
  {
   "cell_type": "code",
   "execution_count": 2,
   "metadata": {},
   "outputs": [
    {
     "name": "stdout",
     "output_type": "stream",
     "text": [
      "Enter the time in Hour= 1\n",
      "The time in Minutes is=  60\n",
      "The time in Seconds is=  3600\n"
     ]
    }
   ],
   "source": [
    "Hour=int(input(\"Enter the time in Hour= \"))\n",
    "Minutes= Hour*60\n",
    "Second=Hour*3600\n",
    "print(\"The time in Minutes is= \", Minutes)\n",
    "print(\"The time in Seconds is= \", Second)"
   ]
  },
  {
   "cell_type": "markdown",
   "metadata": {},
   "source": [
    "### Q2. Assign the result from the previous task (seconds in an hour) to a variable called seconds_per_hour."
   ]
  },
  {
   "cell_type": "markdown",
   "metadata": {},
   "source": [
    "### Answer: "
   ]
  },
  {
   "cell_type": "code",
   "execution_count": 3,
   "metadata": {},
   "outputs": [
    {
     "name": "stdout",
     "output_type": "stream",
     "text": [
      "Enter the time in Hour= 1\n",
      "The time in Minutes is=  60\n",
      "The time in Second_per_Hour is=  3600\n"
     ]
    }
   ],
   "source": [
    "Hour=int(input(\"Enter the time in Hour= \"))\n",
    "Minutes= Hour*60\n",
    "Second_per_Hour=Hour*3600\n",
    "print(\"The time in Minutes is= \", Minutes)\n",
    "print(\"The time in Second_per_Hour is= \", Second_per_Hour)"
   ]
  },
  {
   "cell_type": "markdown",
   "metadata": {},
   "source": [
    "### Q3. How many seconds do you think there are in a day? Make use of the variables seconds per hour and minutes per hour."
   ]
  },
  {
   "cell_type": "markdown",
   "metadata": {},
   "source": [
    "### Answer:"
   ]
  },
  {
   "cell_type": "code",
   "execution_count": 4,
   "metadata": {},
   "outputs": [
    {
     "name": "stdout",
     "output_type": "stream",
     "text": [
      "Enter the time in hours= 1\n",
      "The time in Hour is=  1\n",
      "The time in Minutes_per_Hour is=  60\n",
      "The time in Second_per_Hour is=  3600\n",
      "The Total Seconds in a Day is=  86400\n"
     ]
    }
   ],
   "source": [
    "h=int(input(\"Enter the time in hours= \"))\n",
    "Minutes_per_hour= h*60\n",
    "Second_per_Hour= h*3600\n",
    "Total_second= Second_per_Hour*24\n",
    "print(\"The time in Hour is= \",Hour)\n",
    "print(\"The time in Minutes_per_Hour is= \", Minutes_per_hour)\n",
    "print(\"The time in Second_per_Hour is= \", Second_per_Hour)\n",
    "print(\"The Total Seconds in a Day is= \", Total_second)"
   ]
  },
  {
   "cell_type": "markdown",
   "metadata": {},
   "source": [
    "### Q 4. Calculate seconds per day again, but this time save the result in a variable called seconds_per_day"
   ]
  },
  {
   "cell_type": "markdown",
   "metadata": {},
   "source": [
    "### Answer:"
   ]
  },
  {
   "cell_type": "code",
   "execution_count": 5,
   "metadata": {},
   "outputs": [
    {
     "name": "stdout",
     "output_type": "stream",
     "text": [
      "Enter the number of days= 1\n",
      "Time in second per day=  86400\n"
     ]
    }
   ],
   "source": [
    "d=int(input(\"Enter the number of days= \"))\n",
    "h=d%24\n",
    "seconds_per_day= 86400*h\n",
    "print(\"Time in second per day= \",seconds_per_day)"
   ]
  },
  {
   "cell_type": "markdown",
   "metadata": {},
   "source": [
    "### Q5. Divide seconds_per_day by seconds_per_hour. Use floating-point (/) division."
   ]
  },
  {
   "cell_type": "markdown",
   "metadata": {},
   "source": [
    "### Answer:"
   ]
  },
  {
   "cell_type": "code",
   "execution_count": 6,
   "metadata": {},
   "outputs": [
    {
     "name": "stdout",
     "output_type": "stream",
     "text": [
      "3600.0\n"
     ]
    }
   ],
   "source": [
    "s=seconds_per_day/24\n",
    "print(s)"
   ]
  },
  {
   "cell_type": "markdown",
   "metadata": {},
   "source": [
    "### Q6. Divide seconds_per_day by seconds_per_hour, using integer (//) division. Did this number agree with the floating-point value from the previous question, aside from the final .0?"
   ]
  },
  {
   "cell_type": "markdown",
   "metadata": {},
   "source": [
    "### Answer:"
   ]
  },
  {
   "cell_type": "code",
   "execution_count": 7,
   "metadata": {},
   "outputs": [
    {
     "name": "stdout",
     "output_type": "stream",
     "text": [
      "3600\n"
     ]
    }
   ],
   "source": [
    "t=seconds_per_day//24\n",
    "print(t)"
   ]
  },
  {
   "cell_type": "markdown",
   "metadata": {},
   "source": [
    "### From the above example, we can conclude that with the floating-point value from the previous question, aside from the final .0."
   ]
  },
  {
   "cell_type": "markdown",
   "metadata": {},
   "source": [
    "### Q7. Write a generator, genPrimes, that returns the sequence of prime numbers on successive calls to its next() method: 2, 3, 5, 7, 11, ..."
   ]
  },
  {
   "cell_type": "code",
   "execution_count": 8,
   "metadata": {},
   "outputs": [],
   "source": [
    "def genPrimes():\n",
    "    prime=iter([2,3,5,7,11])\n",
    "    x=next(prime)\n",
    "    print(x)\n",
    "    x=next(prime)\n",
    "    print(x)\n",
    "    x=next(prime)\n",
    "    print(x)\n",
    "    x=next(prime)\n",
    "    print(x)\n",
    "    x=next(prime)\n",
    "    print(x)"
   ]
  },
  {
   "cell_type": "code",
   "execution_count": 9,
   "metadata": {},
   "outputs": [
    {
     "name": "stdout",
     "output_type": "stream",
     "text": [
      "2\n",
      "3\n",
      "5\n",
      "7\n",
      "11\n"
     ]
    }
   ],
   "source": [
    "genPrimes()"
   ]
  }
 ],
 "metadata": {
  "kernelspec": {
   "display_name": "Python 3",
   "language": "python",
   "name": "python3"
  },
  "language_info": {
   "codemirror_mode": {
    "name": "ipython",
    "version": 3
   },
   "file_extension": ".py",
   "mimetype": "text/x-python",
   "name": "python",
   "nbconvert_exporter": "python",
   "pygments_lexer": "ipython3",
   "version": "3.7.6"
  }
 },
 "nbformat": 4,
 "nbformat_minor": 4
}
