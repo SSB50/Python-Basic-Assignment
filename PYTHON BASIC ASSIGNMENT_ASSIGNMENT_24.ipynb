{
 "cells": [
  {
   "cell_type": "markdown",
   "metadata": {},
   "source": [
    "### Q1. What is the relationship between def statements and lambda expressions ?\n",
    "### Answer:"
   ]
  },
  {
   "cell_type": "markdown",
   "metadata": {},
   "source": [
    "The def function marks that the starts of the function header and this function name and calling will be user-defined. A function name to uniquely identify the function.\n",
    "\n",
    "Lamda expressions are on-line methods without a name or we can say anonymous Func and their return type is a function object"
   ]
  },
  {
   "cell_type": "markdown",
   "metadata": {},
   "source": [
    "### Q2. What is the benefit of lambda?\n",
    "### Answer:"
   ]
  },
  {
   "cell_type": "markdown",
   "metadata": {},
   "source": [
    "The Lambda expressions have Fewer Lines of Code are inline functions.So, execute comparatively faster Many times lambda function."
   ]
  },
  {
   "cell_type": "markdown",
   "metadata": {},
   "source": [
    "### Q3. Compare and contrast map, filter, and reduce.\n",
    "### Answer:"
   ]
  },
  {
   "cell_type": "markdown",
   "metadata": {},
   "source": [
    "map(), filter(), reduce(), All three of these are convenience functions that can be replaced with List Comprehensions or loops. The map() function iterates through all items in the given iterable and executes the function we passed as an argument on each of them. The Syntax is: map(function, iterable(s)). The filter() forms a new list that contains only elements that satisfy a certain condition, i.e. the function we passed returns True. The Syntax is: filter(function, iterable(s)). The reduce() function accumulates all elements to a single value, by using immutable values.\n",
    "The Syntax is : reduce(function, sequence)."
   ]
  },
  {
   "cell_type": "markdown",
   "metadata": {},
   "source": [
    "### Q4. What are function annotations, and how are they used?\n",
    "### Answer:"
   ]
  },
  {
   "cell_type": "markdown",
   "metadata": {},
   "source": [
    "The Function annotations is the standard way to access the metadata with the arguments and the return value of the function. The string-based annotations help us to improve the help messages."
   ]
  },
  {
   "cell_type": "code",
   "execution_count": 2,
   "metadata": {},
   "outputs": [
    {
     "name": "stdout",
     "output_type": "stream",
     "text": [
      "{'n': 'float', 'b': 'int', 'return': 'result'}\n"
     ]
    }
   ],
   "source": [
    "def func(n:'float', b:'int')-> 'result': \n",
    "    pass\n",
    "print(func.__annotations__)"
   ]
  },
  {
   "cell_type": "markdown",
   "metadata": {},
   "source": [
    "### Q5. What are recursive functions, and how are they used?\n",
    "### Answer:"
   ]
  },
  {
   "cell_type": "markdown",
   "metadata": {},
   "source": [
    "The recursive function is a function that calls itself during its execution. That means that the function will continue to call itself and repeat its behavior until some condition is met to return a result."
   ]
  },
  {
   "cell_type": "code",
   "execution_count": 3,
   "metadata": {},
   "outputs": [
    {
     "data": {
      "text/plain": [
       "6"
      ]
     },
     "execution_count": 3,
     "metadata": {},
     "output_type": "execute_result"
    }
   ],
   "source": [
    "def func1(x):\n",
    "    if x == 1 :\n",
    "        return 1\n",
    "    else :\n",
    "        return x * func1(x-1) # recurtion\n",
    "    \n",
    "func1(3)"
   ]
  },
  {
   "cell_type": "markdown",
   "metadata": {},
   "source": [
    "### Q6. What are some general design guidelines for coding functions?\n",
    "### Answer:"
   ]
  },
  {
   "cell_type": "markdown",
   "metadata": {},
   "source": [
    "1.Proper indentation is very important.\n",
    "2.Use docstrings.\n",
    "3.Exception handling convention.\n",
    "4.Avoid using a coding style that is too difficult to understand."
   ]
  },
  {
   "cell_type": "markdown",
   "metadata": {},
   "source": [
    "### Q7. Name three or more ways that functions can communicate results to a caller.\n",
    "### Answer:"
   ]
  },
  {
   "cell_type": "markdown",
   "metadata": {},
   "source": [
    "1.Function can return multiple values, tuple, list, dictionaries.\n",
    "2.Function can return single value.\n",
    "3.Function can return class object.\n",
    "4.Function can return function object."
   ]
  }
 ],
 "metadata": {
  "kernelspec": {
   "display_name": "Python 3",
   "language": "python",
   "name": "python3"
  },
  "language_info": {
   "codemirror_mode": {
    "name": "ipython",
    "version": 3
   },
   "file_extension": ".py",
   "mimetype": "text/x-python",
   "name": "python",
   "nbconvert_exporter": "python",
   "pygments_lexer": "ipython3",
   "version": "3.7.6"
  }
 },
 "nbformat": 4,
 "nbformat_minor": 4
}
