{
 "cells": [
  {
   "cell_type": "markdown",
   "metadata": {},
   "source": [
    "### Q1. What advantages do Excel spreadsheets have over CSV spreadsheets?"
   ]
  },
  {
   "cell_type": "markdown",
   "metadata": {},
   "source": [
    "### Answer: The CSV full form is Comma-Seperated Value. The CSV file is plain text file with a series of values and seperated by commas. Each coloumn is sepeated by a comma. \n",
    "### The CSV file can be used in programming and the data diven field. The CSV can contains tabular data, number and the string value data. It does not contain formulas. \n",
    "### The standard format of the CSV file is defined by rows and columns and the extension of the CSV file is .csv. \n",
    "### With the help of CSV file we can store the data and operates various type of operations in the data-driven world."
   ]
  },
  {
   "cell_type": "markdown",
   "metadata": {},
   "source": [
    "### The Excel file is binary file, that can store the data and hold informations. \n",
    "### The Excel consumes more memory than a CSV file. The extension of the Excel file is .xls or .xlsx."
   ]
  },
  {
   "cell_type": "markdown",
   "metadata": {},
   "source": [
    "### Q2.What do you pass to csv.reader() and csv.writer() to create reader and writer objects?"
   ]
  },
  {
   "cell_type": "markdown",
   "metadata": {},
   "source": [
    "### Answer: To read the CSV file, we can use csv.reader() function. Similarly, to write a CSV file, we can use csv.writer() function. To add a row in the particular CSV file, we can use csv.writerow() function."
   ]
  },
  {
   "cell_type": "markdown",
   "metadata": {},
   "source": [
    "### import csv\n",
    "### a=open(\"new_csv.csv\")\n",
    "### csv_reader=csv.reader(a)\n",
    "### csv_writer=csv.writer(a)"
   ]
  },
  {
   "cell_type": "code",
   "execution_count": null,
   "metadata": {},
   "outputs": [],
   "source": [
    "import csv\n",
    "a=open(\"new_csv.csv\")\n",
    "csv_reader=csv.reader(a)\n",
    "csv_writer=csv.writer(a)"
   ]
  },
  {
   "cell_type": "markdown",
   "metadata": {},
   "source": [
    "### Q3. What modes do File objects for reader and writer objects need to be opened in?"
   ]
  },
  {
   "cell_type": "markdown",
   "metadata": {},
   "source": [
    "### Answer: import csv\n",
    "### a=open(\"new_csv.csv\")\n",
    "### csv_reader=csv.reader(a)\n",
    "### csv_writer=csv.writer(a)\n",
    "\n",
    "\n",
    "### variable= open(\"file_name\", \"mode\")\n",
    "### The \"mode\" will be: \"r\" : Open a file for reading; \"w\": Open a file for writing; \n",
    "### \"x\": Open a file for special opeation; \"b\": Open a file in binay mode; \"t\": Open a file in text mode;\n",
    "### \"+\": Open a file for updating (Reading or Writing)"
   ]
  },
  {
   "cell_type": "markdown",
   "metadata": {},
   "source": [
    "### Q4. What method takes a list argument and writes it to a CSV file?"
   ]
  },
  {
   "cell_type": "markdown",
   "metadata": {},
   "source": [
    "### Answer: csv.writerow() or csv.writer()"
   ]
  },
  {
   "cell_type": "markdown",
   "metadata": {},
   "source": [
    "### Q5. What do the keyword arguments delimiter and line terminator do?"
   ]
  },
  {
   "cell_type": "markdown",
   "metadata": {},
   "source": [
    "### Answer: The delimiter is a single string character used to seperate fields. Usaually, the delimite used in CSV file is \",\". \n",
    "### The line terminator is used to terminate the lines of rows. It can be used in the end of rows."
   ]
  },
  {
   "cell_type": "markdown",
   "metadata": {},
   "source": [
    "### Q6. What function takes a string of JSON data and returns a Python data structure?"
   ]
  },
  {
   "cell_type": "markdown",
   "metadata": {},
   "source": [
    "### Answer: json.loads() method can be used. "
   ]
  },
  {
   "cell_type": "markdown",
   "metadata": {},
   "source": [
    "### Q7. What function takes a Python data structure and returns a string of JSON data?"
   ]
  },
  {
   "cell_type": "markdown",
   "metadata": {},
   "source": [
    "### Answer: json.dumps() can be used."
   ]
  }
 ],
 "metadata": {
  "kernelspec": {
   "display_name": "Python 3",
   "language": "python",
   "name": "python3"
  },
  "language_info": {
   "codemirror_mode": {
    "name": "ipython",
    "version": 3
   },
   "file_extension": ".py",
   "mimetype": "text/x-python",
   "name": "python",
   "nbconvert_exporter": "python",
   "pygments_lexer": "ipython3",
   "version": "3.7.6"
  }
 },
 "nbformat": 4,
 "nbformat_minor": 4
}
